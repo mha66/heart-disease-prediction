{
 "cells": [
  {
   "cell_type": "code",
   "execution_count": 43,
   "id": "c1d12bc4",
   "metadata": {},
   "outputs": [],
   "source": [
    "import numpy as np\n",
    "import matplotlib.pyplot as plt\n",
    "import seaborn as sns\n",
    "import pandas as pd\n",
    "\n",
    "\n",
    "from sklearn.model_selection import train_test_split\n",
    "from sklearn.metrics import accuracy_score, classification_report, auc, roc_curve, RocCurveDisplay\n",
    "from sklearn.linear_model import LogisticRegression\n",
    "from sklearn.tree import DecisionTreeClassifier\n",
    "from sklearn.ensemble import RandomForestClassifier\n",
    "from sklearn.svm import SVC\n"
   ]
  },
  {
   "cell_type": "markdown",
   "id": "fbea6cc5",
   "metadata": {},
   "source": [
    "# Load and split dataset"
   ]
  },
  {
   "cell_type": "code",
   "execution_count": 4,
   "id": "ef3f3926",
   "metadata": {},
   "outputs": [
    {
     "data": {
      "text/html": [
       "<div>\n",
       "<style scoped>\n",
       "    .dataframe tbody tr th:only-of-type {\n",
       "        vertical-align: middle;\n",
       "    }\n",
       "\n",
       "    .dataframe tbody tr th {\n",
       "        vertical-align: top;\n",
       "    }\n",
       "\n",
       "    .dataframe thead th {\n",
       "        text-align: right;\n",
       "    }\n",
       "</style>\n",
       "<table border=\"1\" class=\"dataframe\">\n",
       "  <thead>\n",
       "    <tr style=\"text-align: right;\">\n",
       "      <th></th>\n",
       "      <th>PC1</th>\n",
       "      <th>PC2</th>\n",
       "      <th>PC4</th>\n",
       "      <th>PC5</th>\n",
       "      <th>PC6</th>\n",
       "      <th>PC7</th>\n",
       "      <th>num</th>\n",
       "    </tr>\n",
       "  </thead>\n",
       "  <tbody>\n",
       "    <tr>\n",
       "      <th>0</th>\n",
       "      <td>0.675205</td>\n",
       "      <td>0.344930</td>\n",
       "      <td>-0.087400</td>\n",
       "      <td>-0.438102</td>\n",
       "      <td>1.117363</td>\n",
       "      <td>-0.144715</td>\n",
       "      <td>0.0</td>\n",
       "    </tr>\n",
       "    <tr>\n",
       "      <th>1</th>\n",
       "      <td>3.544619</td>\n",
       "      <td>0.506039</td>\n",
       "      <td>-0.653609</td>\n",
       "      <td>0.713136</td>\n",
       "      <td>-1.170823</td>\n",
       "      <td>0.391445</td>\n",
       "      <td>2.0</td>\n",
       "    </tr>\n",
       "    <tr>\n",
       "      <th>2</th>\n",
       "      <td>2.386927</td>\n",
       "      <td>-1.237065</td>\n",
       "      <td>-0.018786</td>\n",
       "      <td>0.465064</td>\n",
       "      <td>0.576870</td>\n",
       "      <td>-0.705147</td>\n",
       "      <td>1.0</td>\n",
       "    </tr>\n",
       "    <tr>\n",
       "      <th>3</th>\n",
       "      <td>-1.344182</td>\n",
       "      <td>-0.262477</td>\n",
       "      <td>2.743671</td>\n",
       "      <td>0.313740</td>\n",
       "      <td>1.221851</td>\n",
       "      <td>0.702343</td>\n",
       "      <td>0.0</td>\n",
       "    </tr>\n",
       "    <tr>\n",
       "      <th>4</th>\n",
       "      <td>-1.755805</td>\n",
       "      <td>-0.296602</td>\n",
       "      <td>0.764861</td>\n",
       "      <td>0.245258</td>\n",
       "      <td>0.185786</td>\n",
       "      <td>0.279775</td>\n",
       "      <td>0.0</td>\n",
       "    </tr>\n",
       "    <tr>\n",
       "      <th>...</th>\n",
       "      <td>...</td>\n",
       "      <td>...</td>\n",
       "      <td>...</td>\n",
       "      <td>...</td>\n",
       "      <td>...</td>\n",
       "      <td>...</td>\n",
       "      <td>...</td>\n",
       "    </tr>\n",
       "    <tr>\n",
       "      <th>298</th>\n",
       "      <td>-0.622619</td>\n",
       "      <td>-1.052430</td>\n",
       "      <td>0.766006</td>\n",
       "      <td>-1.006978</td>\n",
       "      <td>-0.233717</td>\n",
       "      <td>0.353068</td>\n",
       "      <td>1.0</td>\n",
       "    </tr>\n",
       "    <tr>\n",
       "      <th>299</th>\n",
       "      <td>2.566185</td>\n",
       "      <td>-0.885424</td>\n",
       "      <td>-0.090710</td>\n",
       "      <td>1.081507</td>\n",
       "      <td>0.992006</td>\n",
       "      <td>-0.348138</td>\n",
       "      <td>2.0</td>\n",
       "    </tr>\n",
       "    <tr>\n",
       "      <th>300</th>\n",
       "      <td>0.905604</td>\n",
       "      <td>-2.366826</td>\n",
       "      <td>-1.188388</td>\n",
       "      <td>-0.033922</td>\n",
       "      <td>-0.595107</td>\n",
       "      <td>-0.390816</td>\n",
       "      <td>3.0</td>\n",
       "    </tr>\n",
       "    <tr>\n",
       "      <th>301</th>\n",
       "      <td>-0.777244</td>\n",
       "      <td>0.692779</td>\n",
       "      <td>-0.656726</td>\n",
       "      <td>0.792481</td>\n",
       "      <td>0.273470</td>\n",
       "      <td>-0.046283</td>\n",
       "      <td>1.0</td>\n",
       "    </tr>\n",
       "    <tr>\n",
       "      <th>302</th>\n",
       "      <td>-2.030801</td>\n",
       "      <td>-0.455799</td>\n",
       "      <td>-0.080749</td>\n",
       "      <td>1.420730</td>\n",
       "      <td>-0.664441</td>\n",
       "      <td>0.864778</td>\n",
       "      <td>0.0</td>\n",
       "    </tr>\n",
       "  </tbody>\n",
       "</table>\n",
       "<p>303 rows × 7 columns</p>\n",
       "</div>"
      ],
      "text/plain": [
       "          PC1       PC2       PC4       PC5       PC6       PC7  num\n",
       "0    0.675205  0.344930 -0.087400 -0.438102  1.117363 -0.144715  0.0\n",
       "1    3.544619  0.506039 -0.653609  0.713136 -1.170823  0.391445  2.0\n",
       "2    2.386927 -1.237065 -0.018786  0.465064  0.576870 -0.705147  1.0\n",
       "3   -1.344182 -0.262477  2.743671  0.313740  1.221851  0.702343  0.0\n",
       "4   -1.755805 -0.296602  0.764861  0.245258  0.185786  0.279775  0.0\n",
       "..        ...       ...       ...       ...       ...       ...  ...\n",
       "298 -0.622619 -1.052430  0.766006 -1.006978 -0.233717  0.353068  1.0\n",
       "299  2.566185 -0.885424 -0.090710  1.081507  0.992006 -0.348138  2.0\n",
       "300  0.905604 -2.366826 -1.188388 -0.033922 -0.595107 -0.390816  3.0\n",
       "301 -0.777244  0.692779 -0.656726  0.792481  0.273470 -0.046283  1.0\n",
       "302 -2.030801 -0.455799 -0.080749  1.420730 -0.664441  0.864778  0.0\n",
       "\n",
       "[303 rows x 7 columns]"
      ]
     },
     "execution_count": 4,
     "metadata": {},
     "output_type": "execute_result"
    }
   ],
   "source": [
    "df = pd.read_csv(\"../data/heart_disease.csv\")\n",
    "X = df.drop(\"num\", axis=1)\n",
    "y = df[\"num\"]\n",
    "X_train, X_test, y_train, y_test = train_test_split(X, y, test_size=0.2, random_state=30)\n",
    "df"
   ]
  },
  {
   "cell_type": "markdown",
   "id": "ae8da614",
   "metadata": {},
   "source": [
    "# Logistic Regression"
   ]
  },
  {
   "cell_type": "code",
   "execution_count": 46,
   "id": "c79fddd6",
   "metadata": {},
   "outputs": [
    {
     "name": "stdout",
     "output_type": "stream",
     "text": [
      "Logistic Regression Results:\n",
      "\n",
      "Accuracy: 0.6230\n",
      "\n",
      "Classification Report:\n",
      "              precision    recall  f1-score   support\n",
      "\n",
      "         0.0       0.95      0.90      0.92        39\n",
      "         1.0       0.12      0.17      0.14         6\n",
      "         2.0       0.14      0.12      0.13         8\n",
      "         3.0       0.11      0.25      0.15         4\n",
      "         4.0       0.00      0.00      0.00         4\n",
      "\n",
      "    accuracy                           0.62        61\n",
      "   macro avg       0.26      0.29      0.27        61\n",
      "weighted avg       0.64      0.62      0.63        61\n",
      "\n"
     ]
    }
   ],
   "source": [
    "# Create and train the model\n",
    "log_reg_model = LogisticRegression(random_state=30)\n",
    "log_reg_model.fit(X_train, y_train)\n",
    "\n",
    "# Make predictions\n",
    "y_pred_log_reg = log_reg_model.predict(X_test)\n",
    "\n",
    "# Evaluate the model\n",
    "print(\"Logistic Regression Results:\\n\")\n",
    "print(f\"Accuracy: {accuracy_score(y_test, y_pred_log_reg):.4f}\")\n",
    "print(f\"\\nClassification Report:\\n{classification_report(y_test, y_pred_log_reg, zero_division=0)}\")"
   ]
  },
  {
   "cell_type": "code",
   "execution_count": 86,
   "id": "e46f1a27",
   "metadata": {},
   "outputs": [
    {
     "data": {
      "image/png": "[encoded data removed]",
      "text/plain": [
       "<Figure size 800x600 with 1 Axes>"
      ]
     },
     "metadata": {},
     "output_type": "display_data"
    }
   ],
   "source": [
    "# ROC Curve and AUC Score\n",
    "\n",
    "def plot_roc_curve(X_test, y_test, model, model_name=\"Model\"):\n",
    "    y_prob = model.predict_proba(X_test)\n",
    "\n",
    "    plt.figure(figsize=(8, 6))\n",
    "    for i in range(model.classes_.shape[0]):\n",
    "        fpr, tpr, _ = roc_curve(y_test, y_prob[:, i], pos_label=model.classes_[i])\n",
    "        roc_auc = auc(fpr, tpr)\n",
    "        plt.plot(fpr, tpr, lw=1.5, label=f'Class {model.classes_[i]} (AUC = {roc_auc:.2f})')\n",
    "\n",
    "    plt.xlabel('False Positive Rate')\n",
    "    plt.ylabel('True Positive Rate')\n",
    "    plt.title(f'ROC Curve - {model_name} (One-vs-Rest)')\n",
    "    plt.legend(title='Heart Disease Level', loc='lower right')\n",
    "    plt.grid(True)\n",
    "    plt.show()\n",
    "\n",
    "plot_roc_curve(X_test, y_test, model=log_reg_model, model_name=\"Logistic Regression\")\n",
    "\n",
    "\n"
   ]
  },
  {
   "cell_type": "markdown",
   "id": "c5f82a50",
   "metadata": {},
   "source": [
    "# Decision Tree"
   ]
  },
  {
   "cell_type": "code",
   "execution_count": null,
   "id": "aec6a6eb",
   "metadata": {},
   "outputs": [
    {
     "name": "stdout",
     "output_type": "stream",
     "text": [
      "Decision Tree Results:\n",
      "\n",
      "Accuracy: 0.6393\n",
      "\n",
      "Classification Report:\n",
      "              precision    recall  f1-score   support\n",
      "\n",
      "         0.0       0.88      0.90      0.89        39\n",
      "         1.0       0.00      0.00      0.00         6\n",
      "         2.0       0.00      0.00      0.00         8\n",
      "         3.0       0.19      1.00      0.32         4\n",
      "         4.0       0.00      0.00      0.00         4\n",
      "\n",
      "    accuracy                           0.64        61\n",
      "   macro avg       0.21      0.38      0.24        61\n",
      "weighted avg       0.57      0.64      0.59        61\n",
      "\n"
     ]
    }
   ],
   "source": [
    "# create and train the model\n",
    "dt_model = DecisionTreeClassifier(random_state=30, max_depth=3)\n",
    "dt_model.fit(X_train, y_train)\n",
    "\n",
    "# make predictions\n",
    "y_pred_dt = dt_model.predict(X_test)\n",
    "\n",
    "# evaluate the model\n",
    "print(\"Decision Tree Results:\\n\")\n",
    "print(f\"Accuracy: {accuracy_score(y_test, y_pred_dt):.4f}\")\n",
    "print(f\"\\nClassification Report:\\n{classification_report(y_test, y_pred_dt, zero_division=0)}\")"
   ]
  },
  {
   "cell_type": "markdown",
   "id": "22edfc2d",
   "metadata": {},
   "source": [
    "# Random Forest"
   ]
  },
  {
   "cell_type": "code",
   "execution_count": null,
   "id": "55a00898",
   "metadata": {},
   "outputs": [
    {
     "name": "stdout",
     "output_type": "stream",
     "text": [
      "Random Forest Results:\n",
      "\n",
      "Accuracy: 0.6885\n",
      "\n",
      "Classification Report:\n",
      "              precision    recall  f1-score   support\n",
      "\n",
      "         0.0       0.93      0.95      0.94        39\n",
      "         1.0       0.29      0.33      0.31         6\n",
      "         2.0       0.20      0.12      0.15         8\n",
      "         3.0       0.22      0.50      0.31         4\n",
      "         4.0       0.00      0.00      0.00         4\n",
      "\n",
      "    accuracy                           0.69        61\n",
      "   macro avg       0.33      0.38      0.34        61\n",
      "weighted avg       0.66      0.69      0.67        61\n",
      "\n"
     ]
    }
   ],
   "source": [
    "# create and train the model\n",
    "rf_model = RandomForestClassifier(n_estimators=50, random_state=30)\n",
    "rf_model.fit(X_train, y_train)\n",
    "\n",
    "# make predictions\n",
    "y_pred_rf = rf_model.predict(X_test)\n",
    "\n",
    "# evaluate the model\n",
    "print(\"Random Forest Results:\\n\")\n",
    "print(f\"Accuracy: {accuracy_score(y_test, y_pred_rf):.4f}\")\n",
    "print(f\"\\nClassification Report:\\n{classification_report(y_test, y_pred_rf, zero_division=0)}\")"
   ]
  },
  {
   "cell_type": "markdown",
   "id": "69b74f9a",
   "metadata": {},
   "source": [
    "# Support Vector Machine"
   ]
  },
  {
   "cell_type": "code",
   "execution_count": null,
   "id": "d475fc15",
   "metadata": {},
   "outputs": [
    {
     "name": "stdout",
     "output_type": "stream",
     "text": [
      "Support Vector Machine Results:\n",
      "\n",
      "Accuracy: 0.6557\n",
      "\n",
      "Classification Report:\n",
      "              precision    recall  f1-score   support\n",
      "\n",
      "         0.0       0.90      0.95      0.93        39\n",
      "         1.0       0.20      0.17      0.18         6\n",
      "         2.0       0.14      0.12      0.13         8\n",
      "         3.0       0.12      0.25      0.17         4\n",
      "         4.0       0.00      0.00      0.00         4\n",
      "\n",
      "    accuracy                           0.66        61\n",
      "   macro avg       0.27      0.30      0.28        61\n",
      "weighted avg       0.62      0.66      0.64        61\n",
      "\n"
     ]
    }
   ],
   "source": [
    "# create and train the model\n",
    "svm_model = SVC(kernel='rbf', random_state=30)\n",
    "svm_model.fit(X_train, y_train)\n",
    "\n",
    "# make predictions\n",
    "y_pred_svm = svm_model.predict(X_test)\n",
    "\n",
    "# evaluate the model\n",
    "print(\"Support Vector Machine Results:\\n\")\n",
    "print(f\"Accuracy: {accuracy_score(y_test, y_pred_svm):.4f}\")\n",
    "print(f\"\\nClassification Report:\\n{classification_report(y_test, y_pred_svm, zero_division=0)}\")"
   ]
  }
 ],
 "metadata": {
  "kernelspec": {
   "display_name": "Python 3",
   "language": "python",
   "name": "python3"
  },
  "language_info": {
   "codemirror_mode": {
    "name": "ipython",
    "version": 3
   },
   "file_extension": ".py",
   "mimetype": "text/x-python",
   "name": "python",
   "nbconvert_exporter": "python",
   "pygments_lexer": "ipython3",
   "version": "3.12.4"
  }
 },
 "nbformat": 4,
 "nbformat_minor": 5
}
