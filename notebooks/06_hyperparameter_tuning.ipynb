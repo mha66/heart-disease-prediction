{
 "cells": [
  {
   "cell_type": "code",
   "execution_count": 1,
   "id": "91127fed",
   "metadata": {},
   "outputs": [],
   "source": [
    "import numpy as np\n",
    "import matplotlib.pyplot as plt\n",
    "import seaborn as sns\n",
    "import pandas as pd\n",
    "import pickle as pkl\n",
    "\n",
    "from sklearn.pipeline import Pipeline\n",
    "from sklearn.model_selection import train_test_split, GridSearchCV, RandomizedSearchCV\n",
    "from sklearn.metrics import accuracy_score, classification_report, roc_auc_score\n",
    "\n",
    "from sklearn.preprocessing import StandardScaler\n",
    "from sklearn.decomposition import PCA\n",
    "from sklearn.feature_selection import RFE\n",
    "\n",
    "from sklearn.linear_model import LogisticRegression\n",
    "from sklearn.tree import DecisionTreeClassifier\n",
    "from sklearn.ensemble import RandomForestClassifier\n",
    "from sklearn.svm import SVC\n",
    "from scipy.stats import uniform"
   ]
  },
  {
   "cell_type": "markdown",
   "id": "fd29a142",
   "metadata": {},
   "source": [
    "# Load data"
   ]
  },
  {
   "cell_type": "code",
   "execution_count": 35,
   "id": "46ef1f33",
   "metadata": {},
   "outputs": [
    {
     "data": {
      "text/html": [
       "<div>\n",
       "<style scoped>\n",
       "    .dataframe tbody tr th:only-of-type {\n",
       "        vertical-align: middle;\n",
       "    }\n",
       "\n",
       "    .dataframe tbody tr th {\n",
       "        vertical-align: top;\n",
       "    }\n",
       "\n",
       "    .dataframe thead th {\n",
       "        text-align: right;\n",
       "    }\n",
       "</style>\n",
       "<table border=\"1\" class=\"dataframe\">\n",
       "  <thead>\n",
       "    <tr style=\"text-align: right;\">\n",
       "      <th></th>\n",
       "      <th>PC1</th>\n",
       "      <th>PC2</th>\n",
       "      <th>PC4</th>\n",
       "      <th>PC5</th>\n",
       "      <th>PC6</th>\n",
       "      <th>PC7</th>\n",
       "      <th>PC11</th>\n",
       "      <th>num</th>\n",
       "    </tr>\n",
       "  </thead>\n",
       "  <tbody>\n",
       "    <tr>\n",
       "      <th>0</th>\n",
       "      <td>0.675205</td>\n",
       "      <td>0.344930</td>\n",
       "      <td>-0.087400</td>\n",
       "      <td>-0.438102</td>\n",
       "      <td>1.117363</td>\n",
       "      <td>-0.144715</td>\n",
       "      <td>-0.052244</td>\n",
       "      <td>0.0</td>\n",
       "    </tr>\n",
       "    <tr>\n",
       "      <th>1</th>\n",
       "      <td>3.544619</td>\n",
       "      <td>0.506039</td>\n",
       "      <td>-0.653609</td>\n",
       "      <td>0.713136</td>\n",
       "      <td>-1.170823</td>\n",
       "      <td>0.391445</td>\n",
       "      <td>0.053414</td>\n",
       "      <td>2.0</td>\n",
       "    </tr>\n",
       "    <tr>\n",
       "      <th>2</th>\n",
       "      <td>2.386927</td>\n",
       "      <td>-1.237065</td>\n",
       "      <td>-0.018786</td>\n",
       "      <td>0.465064</td>\n",
       "      <td>0.576870</td>\n",
       "      <td>-0.705147</td>\n",
       "      <td>0.092074</td>\n",
       "      <td>1.0</td>\n",
       "    </tr>\n",
       "    <tr>\n",
       "      <th>3</th>\n",
       "      <td>-1.344182</td>\n",
       "      <td>-0.262477</td>\n",
       "      <td>2.743671</td>\n",
       "      <td>0.313740</td>\n",
       "      <td>1.221851</td>\n",
       "      <td>0.702343</td>\n",
       "      <td>-0.377414</td>\n",
       "      <td>0.0</td>\n",
       "    </tr>\n",
       "    <tr>\n",
       "      <th>4</th>\n",
       "      <td>-1.755805</td>\n",
       "      <td>-0.296602</td>\n",
       "      <td>0.764861</td>\n",
       "      <td>0.245258</td>\n",
       "      <td>0.185786</td>\n",
       "      <td>0.279775</td>\n",
       "      <td>0.480802</td>\n",
       "      <td>0.0</td>\n",
       "    </tr>\n",
       "    <tr>\n",
       "      <th>...</th>\n",
       "      <td>...</td>\n",
       "      <td>...</td>\n",
       "      <td>...</td>\n",
       "      <td>...</td>\n",
       "      <td>...</td>\n",
       "      <td>...</td>\n",
       "      <td>...</td>\n",
       "      <td>...</td>\n",
       "    </tr>\n",
       "    <tr>\n",
       "      <th>298</th>\n",
       "      <td>-0.622619</td>\n",
       "      <td>-1.052430</td>\n",
       "      <td>0.766006</td>\n",
       "      <td>-1.006978</td>\n",
       "      <td>-0.233717</td>\n",
       "      <td>0.353068</td>\n",
       "      <td>0.633262</td>\n",
       "      <td>1.0</td>\n",
       "    </tr>\n",
       "    <tr>\n",
       "      <th>299</th>\n",
       "      <td>2.566185</td>\n",
       "      <td>-0.885424</td>\n",
       "      <td>-0.090710</td>\n",
       "      <td>1.081507</td>\n",
       "      <td>0.992006</td>\n",
       "      <td>-0.348138</td>\n",
       "      <td>0.261857</td>\n",
       "      <td>2.0</td>\n",
       "    </tr>\n",
       "    <tr>\n",
       "      <th>300</th>\n",
       "      <td>0.905604</td>\n",
       "      <td>-2.366826</td>\n",
       "      <td>-1.188388</td>\n",
       "      <td>-0.033922</td>\n",
       "      <td>-0.595107</td>\n",
       "      <td>-0.390816</td>\n",
       "      <td>0.015781</td>\n",
       "      <td>3.0</td>\n",
       "    </tr>\n",
       "    <tr>\n",
       "      <th>301</th>\n",
       "      <td>-0.777244</td>\n",
       "      <td>0.692779</td>\n",
       "      <td>-0.656726</td>\n",
       "      <td>0.792481</td>\n",
       "      <td>0.273470</td>\n",
       "      <td>-0.046283</td>\n",
       "      <td>0.921933</td>\n",
       "      <td>1.0</td>\n",
       "    </tr>\n",
       "    <tr>\n",
       "      <th>302</th>\n",
       "      <td>-2.030801</td>\n",
       "      <td>-0.455799</td>\n",
       "      <td>-0.080749</td>\n",
       "      <td>1.420730</td>\n",
       "      <td>-0.664441</td>\n",
       "      <td>0.864778</td>\n",
       "      <td>-0.383477</td>\n",
       "      <td>0.0</td>\n",
       "    </tr>\n",
       "  </tbody>\n",
       "</table>\n",
       "<p>303 rows × 8 columns</p>\n",
       "</div>"
      ],
      "text/plain": [
       "          PC1       PC2       PC4       PC5       PC6       PC7      PC11  num\n",
       "0    0.675205  0.344930 -0.087400 -0.438102  1.117363 -0.144715 -0.052244  0.0\n",
       "1    3.544619  0.506039 -0.653609  0.713136 -1.170823  0.391445  0.053414  2.0\n",
       "2    2.386927 -1.237065 -0.018786  0.465064  0.576870 -0.705147  0.092074  1.0\n",
       "3   -1.344182 -0.262477  2.743671  0.313740  1.221851  0.702343 -0.377414  0.0\n",
       "4   -1.755805 -0.296602  0.764861  0.245258  0.185786  0.279775  0.480802  0.0\n",
       "..        ...       ...       ...       ...       ...       ...       ...  ...\n",
       "298 -0.622619 -1.052430  0.766006 -1.006978 -0.233717  0.353068  0.633262  1.0\n",
       "299  2.566185 -0.885424 -0.090710  1.081507  0.992006 -0.348138  0.261857  2.0\n",
       "300  0.905604 -2.366826 -1.188388 -0.033922 -0.595107 -0.390816  0.015781  3.0\n",
       "301 -0.777244  0.692779 -0.656726  0.792481  0.273470 -0.046283  0.921933  1.0\n",
       "302 -2.030801 -0.455799 -0.080749  1.420730 -0.664441  0.864778 -0.383477  0.0\n",
       "\n",
       "[303 rows x 8 columns]"
      ]
     },
     "execution_count": 35,
     "metadata": {},
     "output_type": "execute_result"
    }
   ],
   "source": [
    "df = pd.read_csv(\"../data/heart_disease.csv\")\n",
    "X = df.drop(\"num\", axis=1)\n",
    "y = df[\"num\"]\n",
    "X_train, X_test, y_train, y_test = train_test_split(X, y, test_size=0.2, random_state=30)\n",
    "df"
   ]
  },
  {
   "cell_type": "markdown",
   "id": "9f3e73a0",
   "metadata": {},
   "source": [
    "# GridSearchCV"
   ]
  },
  {
   "cell_type": "code",
   "execution_count": 37,
   "id": "363b7148",
   "metadata": {},
   "outputs": [
    {
     "name": "stdout",
     "output_type": "stream",
     "text": [
      "Best Logistic Regression: {'C': 5, 'solver': 'lbfgs'}\n",
      "Cross-Validated Best Score (Logistic Regression): 0.5704081632653061\n"
     ]
    },
    {
     "name": "stderr",
     "output_type": "stream",
     "text": [
      "c:\\Users\\mhame\\AppData\\Local\\Programs\\Python\\Python312\\Lib\\site-packages\\sklearn\\linear_model\\_sag.py:348: ConvergenceWarning: The max_iter was reached which means the coef_ did not converge\n",
      "  warnings.warn(\n",
      "c:\\Users\\mhame\\AppData\\Local\\Programs\\Python\\Python312\\Lib\\site-packages\\sklearn\\linear_model\\_sag.py:348: ConvergenceWarning: The max_iter was reached which means the coef_ did not converge\n",
      "  warnings.warn(\n"
     ]
    }
   ],
   "source": [
    "# Logistic Regression\n",
    "param_grid_lr = {\n",
    "    'C': [0.01, 0.05, 0.1, 0.5, 1, 5, 10, 50],\n",
    "    'solver': ['lbfgs', 'newton-cg', 'sag', 'saga']\n",
    "}\n",
    "grid_lr = GridSearchCV(LogisticRegression(random_state=30, max_iter=200), param_grid_lr, scoring='accuracy')\n",
    "grid_lr.fit(X_train, y_train)\n",
    "print(\"Best Logistic Regression:\", grid_lr.best_params_)\n",
    "print(\"Cross-Validated Best Score (Logistic Regression):\", grid_lr.best_score_)\n"
   ]
  },
  {
   "cell_type": "code",
   "execution_count": 38,
   "id": "ff952d12",
   "metadata": {},
   "outputs": [
    {
     "name": "stdout",
     "output_type": "stream",
     "text": [
      "Best Decision Tree: {'max_depth': 2, 'min_samples_split': 2}\n",
      "Cross-Validated Best Score (Logistic Regression): 0.533078231292517\n"
     ]
    }
   ],
   "source": [
    "# Decision Tree\n",
    "param_grid_dt = {\n",
    "    'max_depth': [2, 3, 5, 7, 10, 12, None],\n",
    "    'min_samples_split': [2, 3, 4, 5, 6, 7, 10]\n",
    "}\n",
    "grid_dt = GridSearchCV(DecisionTreeClassifier(random_state=30), param_grid_dt, scoring='accuracy')\n",
    "grid_dt.fit(X_train, y_train)\n",
    "print(\"Best Decision Tree:\", grid_dt.best_params_)\n",
    "print(\"Cross-Validated Best Score (Logistic Regression):\", grid_dt.best_score_)\n"
   ]
  },
  {
   "cell_type": "code",
   "execution_count": 39,
   "id": "863b3f12",
   "metadata": {},
   "outputs": [
    {
     "name": "stdout",
     "output_type": "stream",
     "text": [
      "Best Random Forest: {'max_depth': 11, 'min_samples_split': 2, 'n_estimators': 200}\n",
      "Cross-Validated Best Score (Random Forest): 0.6118197278911566\n"
     ]
    }
   ],
   "source": [
    "# Random Forest\n",
    "param_grid_rf = {\n",
    "    'n_estimators': [50, 100, 150, 200, 250, 300],\n",
    "    'max_depth': [3, 5, 7, 9, 11, None],\n",
    "    'min_samples_split': [2, 3, 4, 5, 10]\n",
    "}\n",
    "grid_rf = GridSearchCV(RandomForestClassifier(random_state=30), param_grid_rf, scoring='accuracy')\n",
    "grid_rf.fit(X_train, y_train)\n",
    "print(\"Best Random Forest:\", grid_rf.best_params_)\n",
    "print(\"Cross-Validated Best Score (Random Forest):\", grid_rf.best_score_)"
   ]
  },
  {
   "cell_type": "code",
   "execution_count": 40,
   "id": "8906246d",
   "metadata": {},
   "outputs": [
    {
     "name": "stdout",
     "output_type": "stream",
     "text": [
      "Best SVM: {'C': 0.5, 'gamma': 'scale', 'kernel': 'linear'}\n",
      "Cross-Validated Best Score (SVM): 0.5911564625850341\n"
     ]
    }
   ],
   "source": [
    "# SVM\n",
    "param_grid_svm = {\n",
    "    'C': [0.01, 0.05, 0.1, 0.5, 1, 5, 10, 50],\n",
    "    'kernel': ['linear', 'rbf', 'poly', 'sigmoid'],\n",
    "    'gamma': ['scale', 'auto']\n",
    "}\n",
    "grid_svm = GridSearchCV(SVC(probability=True, random_state=30), param_grid_svm, scoring='accuracy')\n",
    "grid_svm.fit(X_train, y_train)\n",
    "print(\"Best SVM:\", grid_svm.best_params_)\n",
    "print(\"Cross-Validated Best Score (SVM):\", grid_svm.best_score_)"
   ]
  },
  {
   "cell_type": "markdown",
   "id": "14fd9506",
   "metadata": {},
   "source": [
    "# RandomizedSearchCV"
   ]
  },
  {
   "cell_type": "code",
   "execution_count": 41,
   "id": "5e30e89e",
   "metadata": {},
   "outputs": [
    {
     "name": "stdout",
     "output_type": "stream",
     "text": [
      "Best Logistic Regression (Randomized): {'C': np.float64(2.183569031644456), 'solver': 'lbfgs'}\n",
      "Best Score (Logistic Regression): 0.5744897959183674\n"
     ]
    }
   ],
   "source": [
    "# Logistic Regression\n",
    "param_dist_lr = {\n",
    "    'C': uniform(0.001, 10),\n",
    "    'solver': ['lbfgs', 'newton-cg', 'sag', 'saga']\n",
    "}\n",
    "rand_lr = RandomizedSearchCV(LogisticRegression(random_state=30, max_iter=200), param_dist_lr, n_iter=10, scoring='accuracy', random_state=30)\n",
    "rand_lr.fit(X_train, y_train)\n",
    "print(\"Best Logistic Regression (Randomized):\", rand_lr.best_params_)\n",
    "print(\"Best Score (Logistic Regression):\", rand_lr.best_score_)"
   ]
  },
  {
   "cell_type": "code",
   "execution_count": 42,
   "id": "4ce1b8b1",
   "metadata": {},
   "outputs": [
    {
     "name": "stdout",
     "output_type": "stream",
     "text": [
      "Best Decision Tree (Randomized): {'min_samples_split': 2, 'max_depth': 2}\n",
      "Best Score (Decision Tree): 0.533078231292517\n"
     ]
    }
   ],
   "source": [
    "# Decision Tree\n",
    "param_dist_dt = {\n",
    "    'max_depth': [2, 3, 5, 7, 10, None],\n",
    "    'min_samples_split': [2, 5, 10, 15, 20]\n",
    "}\n",
    "rand_dt = RandomizedSearchCV(DecisionTreeClassifier(random_state=30), param_dist_dt, n_iter=10, scoring='accuracy', random_state=30)\n",
    "rand_dt.fit(X_train, y_train)\n",
    "print(\"Best Decision Tree (Randomized):\", rand_dt.best_params_)\n",
    "print(\"Best Score (Decision Tree):\", rand_dt.best_score_)"
   ]
  },
  {
   "cell_type": "code",
   "execution_count": 43,
   "id": "cc2a6fb4",
   "metadata": {},
   "outputs": [
    {
     "name": "stdout",
     "output_type": "stream",
     "text": [
      "Best Random Forest (Randomized): {'n_estimators': 50, 'min_samples_split': 2, 'max_depth': None}\n",
      "Best Score (Random Forest): 0.5994897959183673\n"
     ]
    }
   ],
   "source": [
    "# Random Forest\n",
    "param_dist_rf = {\n",
    "    'n_estimators': [50, 100, 200, 300],\n",
    "    'max_depth': [3, 5, 7, None],\n",
    "    'min_samples_split': [2, 5, 10, 15]\n",
    "}\n",
    "rand_rf = RandomizedSearchCV(RandomForestClassifier(random_state=30), param_dist_rf, n_iter=20, scoring='accuracy', random_state=30)\n",
    "rand_rf.fit(X_train, y_train)\n",
    "print(\"Best Random Forest (Randomized):\", rand_rf.best_params_)\n",
    "print(\"Best Score (Random Forest):\", rand_rf.best_score_)"
   ]
  },
  {
   "cell_type": "code",
   "execution_count": 44,
   "id": "ee7eba5f",
   "metadata": {},
   "outputs": [
    {
     "name": "stdout",
     "output_type": "stream",
     "text": [
      "Best SVM (Randomized): {'C': np.float64(1.341218238655718), 'gamma': 'auto', 'kernel': 'rbf'}\n",
      "Best Score (SVM): 0.5951530612244899\n"
     ]
    }
   ],
   "source": [
    "# SVM\n",
    "param_dist_svm = {\n",
    "    'C': uniform(0.01, 50),\n",
    "    'kernel': ['linear', 'rbf'],\n",
    "    'gamma': ['scale', 'auto']\n",
    "}\n",
    "rand_svm = RandomizedSearchCV(SVC(probability=True, random_state=30), param_dist_svm, n_iter=20, scoring='accuracy', random_state=30)\n",
    "rand_svm.fit(X_train, y_train)\n",
    "print(\"Best SVM (Randomized):\", rand_svm.best_params_)\n",
    "print(\"Best Score (SVM):\", rand_svm.best_score_)"
   ]
  },
  {
   "cell_type": "markdown",
   "id": "f68d0212",
   "metadata": {},
   "source": [
    "# Load baseline models"
   ]
  },
  {
   "cell_type": "code",
   "execution_count": 45,
   "id": "ecb2bdc0",
   "metadata": {},
   "outputs": [],
   "source": [
    "with open(\"../models/logistic_regression_model.pkl\", \"rb\") as file:\n",
    "    log_reg_model = pkl.load(file)\n",
    "\n",
    "with open(\"../models/decision_tree_model.pkl\", \"rb\") as file:\n",
    "    dt_model = pkl.load(file)\n",
    "\n",
    "with open(\"../models/random_forest_model.pkl\", \"rb\") as file:\n",
    "    rf_model = pkl.load(file)\n",
    "\n",
    "with open(\"../models/svm_model.pkl\", \"rb\") as file:\n",
    "    svm_model = pkl.load(file)"
   ]
  },
  {
   "cell_type": "markdown",
   "id": "a9791b8a",
   "metadata": {},
   "source": [
    "# Compare models"
   ]
  },
  {
   "cell_type": "markdown",
   "id": "4923770a",
   "metadata": {},
   "source": [
    "## Organize models in a dictionary"
   ]
  },
  {
   "cell_type": "code",
   "execution_count": 46,
   "id": "71b1b0e1",
   "metadata": {},
   "outputs": [],
   "source": [
    "# models[model_name][i]\n",
    "# i = 0: baseline, 1: grid search, 2: randomized search\n",
    "\n",
    "models = {\n",
    "    \"Logistic Regression\": [log_reg_model, grid_lr.best_estimator_, rand_lr.best_estimator_],\n",
    "    \"Decision Tree\": [dt_model, grid_dt.best_estimator_, rand_dt.best_estimator_],\n",
    "    \"Random Forest\": [rf_model, grid_rf.best_estimator_, rand_rf.best_estimator_],\n",
    "    \"SVM\": [svm_model, grid_svm.best_estimator_, rand_svm.best_estimator_]\n",
    "}\n"
   ]
  },
  {
   "cell_type": "markdown",
   "id": "0ae946c9",
   "metadata": {},
   "source": [
    "## Test and score each model"
   ]
  },
  {
   "cell_type": "code",
   "execution_count": 53,
   "id": "dce2ccf6",
   "metadata": {},
   "outputs": [
    {
     "data": {
      "text/html": [
       "<div>\n",
       "<style scoped>\n",
       "    .dataframe tbody tr th:only-of-type {\n",
       "        vertical-align: middle;\n",
       "    }\n",
       "\n",
       "    .dataframe tbody tr th {\n",
       "        vertical-align: top;\n",
       "    }\n",
       "\n",
       "    .dataframe thead th {\n",
       "        text-align: right;\n",
       "    }\n",
       "</style>\n",
       "<table border=\"1\" class=\"dataframe\">\n",
       "  <thead>\n",
       "    <tr style=\"text-align: right;\">\n",
       "      <th></th>\n",
       "      <th>accuracy</th>\n",
       "      <th>roc_auc</th>\n",
       "      <th>precision_weighted</th>\n",
       "      <th>recall_weighted</th>\n",
       "      <th>f1-score_weighted</th>\n",
       "      <th>precision_macro</th>\n",
       "      <th>recall_macro</th>\n",
       "      <th>f1-score_macro</th>\n",
       "    </tr>\n",
       "  </thead>\n",
       "  <tbody>\n",
       "    <tr>\n",
       "      <th>Logistic Regression - Baseline</th>\n",
       "      <td>0.688525</td>\n",
       "      <td>0.853392</td>\n",
       "      <td>0.682238</td>\n",
       "      <td>0.688525</td>\n",
       "      <td>0.681882</td>\n",
       "      <td>0.323308</td>\n",
       "      <td>0.381410</td>\n",
       "      <td>0.342684</td>\n",
       "    </tr>\n",
       "    <tr>\n",
       "      <th>Logistic Regression - Grid Search</th>\n",
       "      <td>0.672131</td>\n",
       "      <td>0.847216</td>\n",
       "      <td>0.681784</td>\n",
       "      <td>0.672131</td>\n",
       "      <td>0.673142</td>\n",
       "      <td>0.323166</td>\n",
       "      <td>0.376282</td>\n",
       "      <td>0.339950</td>\n",
       "    </tr>\n",
       "    <tr>\n",
       "      <th>Logistic Regression - Randomized Search</th>\n",
       "      <td>0.672131</td>\n",
       "      <td>0.853491</td>\n",
       "      <td>0.679051</td>\n",
       "      <td>0.672131</td>\n",
       "      <td>0.671268</td>\n",
       "      <td>0.317610</td>\n",
       "      <td>0.376282</td>\n",
       "      <td>0.336140</td>\n",
       "    </tr>\n",
       "    <tr>\n",
       "      <th>Decision Tree - Baseline</th>\n",
       "      <td>0.655738</td>\n",
       "      <td>0.805948</td>\n",
       "      <td>0.656284</td>\n",
       "      <td>0.655738</td>\n",
       "      <td>0.637298</td>\n",
       "      <td>0.308889</td>\n",
       "      <td>0.441026</td>\n",
       "      <td>0.320727</td>\n",
       "    </tr>\n",
       "    <tr>\n",
       "      <th>Decision Tree - Grid Search</th>\n",
       "      <td>0.639344</td>\n",
       "      <td>0.790968</td>\n",
       "      <td>0.571916</td>\n",
       "      <td>0.639344</td>\n",
       "      <td>0.587491</td>\n",
       "      <td>0.213095</td>\n",
       "      <td>0.379487</td>\n",
       "      <td>0.241215</td>\n",
       "    </tr>\n",
       "    <tr>\n",
       "      <th>Decision Tree - Randomized Search</th>\n",
       "      <td>0.639344</td>\n",
       "      <td>0.790968</td>\n",
       "      <td>0.571916</td>\n",
       "      <td>0.639344</td>\n",
       "      <td>0.587491</td>\n",
       "      <td>0.213095</td>\n",
       "      <td>0.379487</td>\n",
       "      <td>0.241215</td>\n",
       "    </tr>\n",
       "    <tr>\n",
       "      <th>Random Forest - Baseline</th>\n",
       "      <td>0.721311</td>\n",
       "      <td>0.836531</td>\n",
       "      <td>0.697307</td>\n",
       "      <td>0.721311</td>\n",
       "      <td>0.706437</td>\n",
       "      <td>0.355586</td>\n",
       "      <td>0.419872</td>\n",
       "      <td>0.379980</td>\n",
       "    </tr>\n",
       "    <tr>\n",
       "      <th>Random Forest - Grid Search</th>\n",
       "      <td>0.655738</td>\n",
       "      <td>0.829918</td>\n",
       "      <td>0.655786</td>\n",
       "      <td>0.655738</td>\n",
       "      <td>0.654475</td>\n",
       "      <td>0.295029</td>\n",
       "      <td>0.326282</td>\n",
       "      <td>0.307685</td>\n",
       "    </tr>\n",
       "    <tr>\n",
       "      <th>Random Forest - Randomized Search</th>\n",
       "      <td>0.721311</td>\n",
       "      <td>0.836531</td>\n",
       "      <td>0.697307</td>\n",
       "      <td>0.721311</td>\n",
       "      <td>0.706437</td>\n",
       "      <td>0.355586</td>\n",
       "      <td>0.419872</td>\n",
       "      <td>0.379980</td>\n",
       "    </tr>\n",
       "    <tr>\n",
       "      <th>SVM - Baseline</th>\n",
       "      <td>0.655738</td>\n",
       "      <td>0.832632</td>\n",
       "      <td>0.621466</td>\n",
       "      <td>0.655738</td>\n",
       "      <td>0.637196</td>\n",
       "      <td>0.270964</td>\n",
       "      <td>0.298077</td>\n",
       "      <td>0.281364</td>\n",
       "    </tr>\n",
       "    <tr>\n",
       "      <th>SVM - Grid Search</th>\n",
       "      <td>0.688525</td>\n",
       "      <td>0.880853</td>\n",
       "      <td>0.661475</td>\n",
       "      <td>0.688525</td>\n",
       "      <td>0.674134</td>\n",
       "      <td>0.305000</td>\n",
       "      <td>0.336538</td>\n",
       "      <td>0.318992</td>\n",
       "    </tr>\n",
       "    <tr>\n",
       "      <th>SVM - Randomized Search</th>\n",
       "      <td>0.655738</td>\n",
       "      <td>0.831962</td>\n",
       "      <td>0.621466</td>\n",
       "      <td>0.655738</td>\n",
       "      <td>0.637196</td>\n",
       "      <td>0.270964</td>\n",
       "      <td>0.298077</td>\n",
       "      <td>0.281364</td>\n",
       "    </tr>\n",
       "  </tbody>\n",
       "</table>\n",
       "</div>"
      ],
      "text/plain": [
       "                                         accuracy   roc_auc  \\\n",
       "Logistic Regression - Baseline           0.688525  0.853392   \n",
       "Logistic Regression - Grid Search        0.672131  0.847216   \n",
       "Logistic Regression - Randomized Search  0.672131  0.853491   \n",
       "Decision Tree - Baseline                 0.655738  0.805948   \n",
       "Decision Tree - Grid Search              0.639344  0.790968   \n",
       "Decision Tree - Randomized Search        0.639344  0.790968   \n",
       "Random Forest - Baseline                 0.721311  0.836531   \n",
       "Random Forest - Grid Search              0.655738  0.829918   \n",
       "Random Forest - Randomized Search        0.721311  0.836531   \n",
       "SVM - Baseline                           0.655738  0.832632   \n",
       "SVM - Grid Search                        0.688525  0.880853   \n",
       "SVM - Randomized Search                  0.655738  0.831962   \n",
       "\n",
       "                                         precision_weighted  recall_weighted  \\\n",
       "Logistic Regression - Baseline                     0.682238         0.688525   \n",
       "Logistic Regression - Grid Search                  0.681784         0.672131   \n",
       "Logistic Regression - Randomized Search            0.679051         0.672131   \n",
       "Decision Tree - Baseline                           0.656284         0.655738   \n",
       "Decision Tree - Grid Search                        0.571916         0.639344   \n",
       "Decision Tree - Randomized Search                  0.571916         0.639344   \n",
       "Random Forest - Baseline                           0.697307         0.721311   \n",
       "Random Forest - Grid Search                        0.655786         0.655738   \n",
       "Random Forest - Randomized Search                  0.697307         0.721311   \n",
       "SVM - Baseline                                     0.621466         0.655738   \n",
       "SVM - Grid Search                                  0.661475         0.688525   \n",
       "SVM - Randomized Search                            0.621466         0.655738   \n",
       "\n",
       "                                         f1-score_weighted  precision_macro  \\\n",
       "Logistic Regression - Baseline                    0.681882         0.323308   \n",
       "Logistic Regression - Grid Search                 0.673142         0.323166   \n",
       "Logistic Regression - Randomized Search           0.671268         0.317610   \n",
       "Decision Tree - Baseline                          0.637298         0.308889   \n",
       "Decision Tree - Grid Search                       0.587491         0.213095   \n",
       "Decision Tree - Randomized Search                 0.587491         0.213095   \n",
       "Random Forest - Baseline                          0.706437         0.355586   \n",
       "Random Forest - Grid Search                       0.654475         0.295029   \n",
       "Random Forest - Randomized Search                 0.706437         0.355586   \n",
       "SVM - Baseline                                    0.637196         0.270964   \n",
       "SVM - Grid Search                                 0.674134         0.305000   \n",
       "SVM - Randomized Search                           0.637196         0.270964   \n",
       "\n",
       "                                         recall_macro  f1-score_macro  \n",
       "Logistic Regression - Baseline               0.381410        0.342684  \n",
       "Logistic Regression - Grid Search            0.376282        0.339950  \n",
       "Logistic Regression - Randomized Search      0.376282        0.336140  \n",
       "Decision Tree - Baseline                     0.441026        0.320727  \n",
       "Decision Tree - Grid Search                  0.379487        0.241215  \n",
       "Decision Tree - Randomized Search            0.379487        0.241215  \n",
       "Random Forest - Baseline                     0.419872        0.379980  \n",
       "Random Forest - Grid Search                  0.326282        0.307685  \n",
       "Random Forest - Randomized Search            0.419872        0.379980  \n",
       "SVM - Baseline                               0.298077        0.281364  \n",
       "SVM - Grid Search                            0.336538        0.318992  \n",
       "SVM - Randomized Search                      0.298077        0.281364  "
      ]
     },
     "execution_count": 53,
     "metadata": {},
     "output_type": "execute_result"
    }
   ],
   "source": [
    "metrics = pd.DataFrame(columns = [\"accuracy\", \"roc_auc\", \"precision_weighted\", \"recall_weighted\",\n",
    "                                 \"f1-score_weighted\", \"precision_macro\", \"recall_macro\", \"f1-score_macro\"])\n",
    "\n",
    "index_to_variation = {0: \"Baseline\", 1: \"Grid Search\", 2: \"Randomized Search\"}\n",
    "\n",
    "for model_name, model_variations in models.items():\n",
    "    for i, model in enumerate(model_variations):\n",
    "        y_pred = model.predict(X_test)\n",
    "        y_proba = model.predict_proba(X_test)\n",
    "        accuracy = accuracy_score(y_test, y_pred)\n",
    "        roc_auc = roc_auc_score(y_test, y_proba, multi_class='ovr') \n",
    "        class_report = classification_report(y_test, y_pred, output_dict=True, zero_division=0)\n",
    "        \n",
    "        metrics.loc[f\"{model_name} - {index_to_variation[i]}\"] = {\n",
    "            \"accuracy\": accuracy,\n",
    "            \"roc_auc\": roc_auc,\n",
    "            \"precision_weighted\": class_report['weighted avg']['precision'],\n",
    "            \"recall_weighted\": class_report['weighted avg']['recall'],\n",
    "            \"f1-score_weighted\": class_report['weighted avg']['f1-score'],\n",
    "            \"precision_macro\": class_report['macro avg']['precision'],\n",
    "            \"recall_macro\": class_report['macro avg']['recall'],\n",
    "            \"f1-score_macro\": class_report['macro avg']['f1-score']\n",
    "        }\n",
    "\n",
    "metrics.to_csv(\"../results/hyperparameter_tuning_metrics.csv\")\n",
    "    \n",
    "metrics"
   ]
  },
  {
   "cell_type": "markdown",
   "id": "f69b3f8f",
   "metadata": {},
   "source": [
    "## Plot results (accuracy and AUC)"
   ]
  },
  {
   "cell_type": "code",
   "execution_count": 48,
   "id": "a907d602",
   "metadata": {},
   "outputs": [
    {
     "data": {
      "image/png": "[encoded data removed]",
      "text/plain": [
       "<Figure size 800x1000 with 2 Axes>"
      ]
     },
     "metadata": {},
     "output_type": "display_data"
    }
   ],
   "source": [
    "fig , (ax1, ax2) = plt.subplots(2, 1, figsize=(8, 10))\n",
    "\n",
    "acc_sorted_metrics= metrics.sort_values(by='accuracy', ascending=False)\n",
    "ax1.bar(acc_sorted_metrics.index, acc_sorted_metrics['accuracy'], color='skyblue')\n",
    "ax1.set_ylabel('Accuracy')\n",
    "ax1.set_title('Model Accuracy Comparison')\n",
    "ax1.tick_params(axis='x', labelsize=8, labelrotation=90)\n",
    "ax1.set_ylim(0, 1)\n",
    "\n",
    "auc_sorted_metrics= metrics.sort_values(by='roc_auc', ascending=False)\n",
    "ax2.bar(auc_sorted_metrics.index, auc_sorted_metrics['roc_auc'], color='lightgreen')\n",
    "ax2.set_ylabel('ROC AUC')\n",
    "ax2.set_title('Model ROC AUC Comparison')\n",
    "ax2.tick_params(axis='x', labelsize=8, labelrotation=90)\n",
    "ax2.set_ylim(0, 1)\n",
    "\n",
    "\n",
    "plt.tight_layout()\n",
    "plt.show()"
   ]
  },
  {
   "cell_type": "markdown",
   "id": "12a99b60",
   "metadata": {},
   "source": [
    "## Save best model"
   ]
  },
  {
   "cell_type": "code",
   "execution_count": 15,
   "id": "8d7c5592",
   "metadata": {},
   "outputs": [],
   "source": [
    "# Use RandomForestClassifier for RFE estimator\n",
    "rfe = RFE(estimator=RandomForestClassifier(random_state=30), n_features_to_select=7)\n",
    "\n",
    "pipeline = Pipeline([\n",
    "    ('scaler', StandardScaler()),           # Scaling\n",
    "    ('pca', PCA(n_components=7)),           # PCA (adjust n_components as needed)\n",
    "    ('feature_selection', rfe),  # Feature selection\n",
    "    ('classifier', rand_rf.best_estimator_) \n",
    "])\n",
    "\n",
    "pipeline.fit(X_train, y_train)\n",
    "\n",
    "# Save pipeline\n",
    "with open(\"../models/final_model.pkl\", \"wb\") as f:\n",
    "    pkl.dump(pipeline, f)"
   ]
  }
 ],
 "metadata": {
  "kernelspec": {
   "display_name": "Python 3",
   "language": "python",
   "name": "python3"
  },
  "language_info": {
   "codemirror_mode": {
    "name": "ipython",
    "version": 3
   },
   "file_extension": ".py",
   "mimetype": "text/x-python",
   "name": "python",
   "nbconvert_exporter": "python",
   "pygments_lexer": "ipython3",
   "version": "3.12.4"
  }
 },
 "nbformat": 4,
 "nbformat_minor": 5
}
