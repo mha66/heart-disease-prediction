{
 "cells": [
  {
   "cell_type": "code",
   "execution_count": 39,
   "id": "91127fed",
   "metadata": {},
   "outputs": [],
   "source": [
    "import numpy as np\n",
    "import matplotlib.pyplot as plt\n",
    "import seaborn as sns\n",
    "import pandas as pd\n",
    "import pickle as pkl\n",
    "\n",
    "from sklearn.pipeline import Pipeline\n",
    "from sklearn.model_selection import train_test_split, GridSearchCV, RandomizedSearchCV\n",
    "from sklearn.metrics import accuracy_score, classification_report, roc_auc_score\n",
    "\n",
    "from sklearn.preprocessing import StandardScaler\n",
    "from sklearn.decomposition import PCA\n",
    "from sklearn.feature_selection import RFE\n",
    "\n",
    "from sklearn.linear_model import LogisticRegression\n",
    "from sklearn.tree import DecisionTreeClassifier\n",
    "from sklearn.ensemble import RandomForestClassifier\n",
    "from sklearn.svm import SVC\n",
    "from scipy.stats import uniform"
   ]
  },
  {
   "cell_type": "markdown",
   "id": "fd29a142",
   "metadata": {},
   "source": [
    "# Load data"
   ]
  },
  {
   "cell_type": "code",
   "execution_count": 2,
   "id": "46ef1f33",
   "metadata": {},
   "outputs": [],
   "source": [
    "df = pd.read_csv(\"../data/heart_disease.csv\")\n",
    "X = df.drop(\"num\", axis=1)\n",
    "y = df[\"num\"]\n",
    "X_train, X_test, y_train, y_test = train_test_split(X, y, test_size=0.2, random_state=30)"
   ]
  },
  {
   "cell_type": "markdown",
   "id": "9f3e73a0",
   "metadata": {},
   "source": [
    "# GridSearchCV"
   ]
  },
  {
   "cell_type": "code",
   "execution_count": 29,
   "id": "363b7148",
   "metadata": {},
   "outputs": [
    {
     "name": "stdout",
     "output_type": "stream",
     "text": [
      "Best Logistic Regression: {'C': 10, 'solver': 'lbfgs'}\n",
      "Cross-Validated Best Score (Logistic Regression): 0.59515306122449\n"
     ]
    }
   ],
   "source": [
    "# Logistic Regression\n",
    "param_grid_lr = {\n",
    "    'C': [0.01, 0.05, 0.1, 0.5, 1, 5, 10, 50],\n",
    "    'solver': ['lbfgs', 'newton-cg', 'sag', 'saga']\n",
    "}\n",
    "grid_lr = GridSearchCV(LogisticRegression(random_state=30), param_grid_lr, scoring='accuracy')\n",
    "grid_lr.fit(X_train, y_train)\n",
    "print(\"Best Logistic Regression:\", grid_lr.best_params_)\n",
    "print(\"Cross-Validated Best Score (Logistic Regression):\", grid_lr.best_score_)\n"
   ]
  },
  {
   "cell_type": "code",
   "execution_count": 31,
   "id": "ff952d12",
   "metadata": {},
   "outputs": [
    {
     "name": "stdout",
     "output_type": "stream",
     "text": [
      "Best Decision Tree: {'max_depth': 2, 'min_samples_split': 2}\n",
      "Cross-Validated Best Score (Logistic Regression): 0.533078231292517\n"
     ]
    }
   ],
   "source": [
    "# Decision Tree\n",
    "param_grid_dt = {\n",
    "    'max_depth': [2, 3, 5, 7, 10, 12, None],\n",
    "    'min_samples_split': [2, 3, 4, 5, 6, 7, 10]\n",
    "}\n",
    "grid_dt = GridSearchCV(DecisionTreeClassifier(random_state=30), param_grid_dt, scoring='accuracy')\n",
    "grid_dt.fit(X_train, y_train)\n",
    "print(\"Best Decision Tree:\", grid_dt.best_params_)\n",
    "print(\"Cross-Validated Best Score (Logistic Regression):\", grid_dt.best_score_)\n"
   ]
  },
  {
   "cell_type": "code",
   "execution_count": 32,
   "id": "863b3f12",
   "metadata": {},
   "outputs": [
    {
     "name": "stdout",
     "output_type": "stream",
     "text": [
      "Best Random Forest: {'max_depth': 7, 'min_samples_split': 3, 'n_estimators': 100}\n",
      "Cross-Validated Best Score (Random Forest): 0.6077380952380953\n"
     ]
    }
   ],
   "source": [
    "# Random Forest\n",
    "param_grid_rf = {\n",
    "    'n_estimators': [50, 100, 150, 200, 250, 300],\n",
    "    'max_depth': [3, 5, 7, 9, 11, None],\n",
    "    'min_samples_split': [2, 3, 4, 5, 10]\n",
    "}\n",
    "grid_rf = GridSearchCV(RandomForestClassifier(random_state=30), param_grid_rf, scoring='accuracy')\n",
    "grid_rf.fit(X_train, y_train)\n",
    "print(\"Best Random Forest:\", grid_rf.best_params_)\n",
    "print(\"Cross-Validated Best Score (Random Forest):\", grid_rf.best_score_)"
   ]
  },
  {
   "cell_type": "code",
   "execution_count": 33,
   "id": "8906246d",
   "metadata": {},
   "outputs": [
    {
     "name": "stdout",
     "output_type": "stream",
     "text": [
      "Best SVM: {'C': 1, 'gamma': 'scale', 'kernel': 'rbf'}\n",
      "Cross-Validated Best Score (SVM): 0.599234693877551\n"
     ]
    }
   ],
   "source": [
    "# SVM\n",
    "param_grid_svm = {\n",
    "    'C': [0.01, 0.05, 0.1, 0.5, 1, 5, 10, 50],\n",
    "    'kernel': ['linear', 'rbf', 'poly', 'sigmoid'],\n",
    "    'gamma': ['scale', 'auto']\n",
    "}\n",
    "grid_svm = GridSearchCV(SVC(probability=True, random_state=30), param_grid_svm, scoring='accuracy')\n",
    "grid_svm.fit(X_train, y_train)\n",
    "print(\"Best SVM:\", grid_svm.best_params_)\n",
    "print(\"Cross-Validated Best Score (SVM):\", grid_svm.best_score_)"
   ]
  },
  {
   "cell_type": "markdown",
   "id": "14fd9506",
   "metadata": {},
   "source": [
    "# RandomizedSearchCV"
   ]
  },
  {
   "cell_type": "code",
   "execution_count": 7,
   "id": "5e30e89e",
   "metadata": {},
   "outputs": [
    {
     "name": "stdout",
     "output_type": "stream",
     "text": [
      "Best Logistic Regression (Randomized): {'C': np.float64(1.6375072610275332), 'solver': 'newton-cg'}\n",
      "Best Score (Logistic Regression): 0.5952380952380952\n"
     ]
    }
   ],
   "source": [
    "# Logistic Regression\n",
    "param_dist_lr = {\n",
    "    'C': uniform(0.001, 10),\n",
    "    'solver': ['lbfgs', 'newton-cg', 'sag', 'saga']\n",
    "}\n",
    "rand_lr = RandomizedSearchCV(LogisticRegression(random_state=30), param_dist_lr, n_iter=10, scoring='accuracy', random_state=30)\n",
    "rand_lr.fit(X_train, y_train)\n",
    "print(\"Best Logistic Regression (Randomized):\", rand_lr.best_params_)\n",
    "print(\"Best Score (Logistic Regression):\", rand_lr.best_score_)"
   ]
  },
  {
   "cell_type": "code",
   "execution_count": 8,
   "id": "4ce1b8b1",
   "metadata": {},
   "outputs": [
    {
     "name": "stdout",
     "output_type": "stream",
     "text": [
      "Best Decision Tree (Randomized): {'min_samples_split': 20, 'max_depth': 10}\n",
      "Best Score (Decision Tree): 0.5333333333333333\n"
     ]
    }
   ],
   "source": [
    "# Decision Tree\n",
    "param_dist_dt = {\n",
    "    'max_depth': [2, 3, 5, 7, 10, None],\n",
    "    'min_samples_split': [2, 5, 10, 15, 20]\n",
    "}\n",
    "rand_dt = RandomizedSearchCV(DecisionTreeClassifier(random_state=30), param_dist_dt, n_iter=10, scoring='accuracy', random_state=30)\n",
    "rand_dt.fit(X_train, y_train)\n",
    "print(\"Best Decision Tree (Randomized):\", rand_dt.best_params_)\n",
    "print(\"Best Score (Decision Tree):\", rand_dt.best_score_)"
   ]
  },
  {
   "cell_type": "code",
   "execution_count": 9,
   "id": "cc2a6fb4",
   "metadata": {},
   "outputs": [
    {
     "name": "stdout",
     "output_type": "stream",
     "text": [
      "Best Random Forest (Randomized): {'n_estimators': 200, 'min_samples_split': 5, 'max_depth': None}\n",
      "Best Score (Random Forest): 0.5995748299319728\n"
     ]
    }
   ],
   "source": [
    "# Random Forest\n",
    "param_dist_rf = {\n",
    "    'n_estimators': [50, 100, 200, 300],\n",
    "    'max_depth': [3, 5, 7, None],\n",
    "    'min_samples_split': [2, 5, 10, 15]\n",
    "}\n",
    "rand_rf = RandomizedSearchCV(RandomForestClassifier(random_state=30), param_dist_rf, n_iter=20, scoring='accuracy', random_state=30)\n",
    "rand_rf.fit(X_train, y_train)\n",
    "print(\"Best Random Forest (Randomized):\", rand_rf.best_params_)\n",
    "print(\"Best Score (Random Forest):\", rand_rf.best_score_)"
   ]
  },
  {
   "cell_type": "code",
   "execution_count": 10,
   "id": "ee7eba5f",
   "metadata": {},
   "outputs": [
    {
     "name": "stdout",
     "output_type": "stream",
     "text": [
      "Best SVM (Randomized): {'C': np.float64(1.341218238655718), 'gamma': 'auto', 'kernel': 'rbf'}\n",
      "Best Score (SVM): 0.599234693877551\n"
     ]
    }
   ],
   "source": [
    "# SVM\n",
    "param_dist_svm = {\n",
    "    'C': uniform(0.01, 50),\n",
    "    'kernel': ['linear', 'rbf'],\n",
    "    'gamma': ['scale', 'auto']\n",
    "}\n",
    "rand_svm = RandomizedSearchCV(SVC(probability=True, random_state=30), param_dist_svm, n_iter=20, scoring='accuracy', random_state=30)\n",
    "rand_svm.fit(X_train, y_train)\n",
    "print(\"Best SVM (Randomized):\", rand_svm.best_params_)\n",
    "print(\"Best Score (SVM):\", rand_svm.best_score_)"
   ]
  },
  {
   "cell_type": "markdown",
   "id": "f68d0212",
   "metadata": {},
   "source": [
    "# Load baseline models"
   ]
  },
  {
   "cell_type": "code",
   "execution_count": 11,
   "id": "ecb2bdc0",
   "metadata": {},
   "outputs": [],
   "source": [
    "with open(\"../models/logistic_regression_model.pkl\", \"rb\") as file:\n",
    "    log_reg_model = pkl.load(file)\n",
    "\n",
    "with open(\"../models/decision_tree_model.pkl\", \"rb\") as file:\n",
    "    dt_model = pkl.load(file)\n",
    "\n",
    "with open(\"../models/random_forest_model.pkl\", \"rb\") as file:\n",
    "    rf_model = pkl.load(file)\n",
    "\n",
    "with open(\"../models/svm_model.pkl\", \"rb\") as file:\n",
    "    svm_model = pkl.load(file)"
   ]
  },
  {
   "cell_type": "markdown",
   "id": "a9791b8a",
   "metadata": {},
   "source": [
    "# Compare models"
   ]
  },
  {
   "cell_type": "markdown",
   "id": "4923770a",
   "metadata": {},
   "source": [
    "## Organize models in a dictionary"
   ]
  },
  {
   "cell_type": "code",
   "execution_count": 34,
   "id": "71b1b0e1",
   "metadata": {},
   "outputs": [],
   "source": [
    "# models[model_name][i]\n",
    "# i = 0: baseline, 1: grid search, 2: randomized search\n",
    "\n",
    "models = {\n",
    "    \"Logistic Regression\": [log_reg_model, grid_lr.best_estimator_, rand_lr.best_estimator_],\n",
    "    \"Decision Tree\": [dt_model, grid_dt.best_estimator_, rand_dt.best_estimator_],\n",
    "    \"Random Forest\": [rf_model, grid_rf.best_estimator_, rand_rf.best_estimator_],\n",
    "    \"SVM\": [svm_model, grid_svm.best_estimator_, rand_svm.best_estimator_]\n",
    "}\n"
   ]
  },
  {
   "cell_type": "markdown",
   "id": "0ae946c9",
   "metadata": {},
   "source": [
    "## Test and score each model"
   ]
  },
  {
   "cell_type": "code",
   "execution_count": null,
   "id": "dce2ccf6",
   "metadata": {},
   "outputs": [
    {
     "name": "stderr",
     "output_type": "stream",
     "text": [
      "c:\\Users\\mhame\\AppData\\Local\\Programs\\Python\\Python312\\Lib\\site-packages\\sklearn\\utils\\validation.py:2742: UserWarning: X has feature names, but RandomForestClassifier was fitted without feature names\n",
      "  warnings.warn(\n",
      "c:\\Users\\mhame\\AppData\\Local\\Programs\\Python\\Python312\\Lib\\site-packages\\sklearn\\utils\\validation.py:2742: UserWarning: X has feature names, but RandomForestClassifier was fitted without feature names\n",
      "  warnings.warn(\n"
     ]
    },
    {
     "data": {
      "text/html": [
       "<div>\n",
       "<style scoped>\n",
       "    .dataframe tbody tr th:only-of-type {\n",
       "        vertical-align: middle;\n",
       "    }\n",
       "\n",
       "    .dataframe tbody tr th {\n",
       "        vertical-align: top;\n",
       "    }\n",
       "\n",
       "    .dataframe thead th {\n",
       "        text-align: right;\n",
       "    }\n",
       "</style>\n",
       "<table border=\"1\" class=\"dataframe\">\n",
       "  <thead>\n",
       "    <tr style=\"text-align: right;\">\n",
       "      <th></th>\n",
       "      <th>accuracy</th>\n",
       "      <th>roc_auc</th>\n",
       "      <th>classification_report</th>\n",
       "    </tr>\n",
       "  </thead>\n",
       "  <tbody>\n",
       "    <tr>\n",
       "      <th>Logistic Regression - Baseline</th>\n",
       "      <td>0.622951</td>\n",
       "      <td>0.853772</td>\n",
       "      <td>{'0.0': {'precision': 0.9459459459459459, 'rec...</td>\n",
       "    </tr>\n",
       "    <tr>\n",
       "      <th>Logistic Regression - Grid Search</th>\n",
       "      <td>0.639344</td>\n",
       "      <td>0.851683</td>\n",
       "      <td>{'0.0': {'precision': 0.9722222222222222, 'rec...</td>\n",
       "    </tr>\n",
       "    <tr>\n",
       "      <th>Logistic Regression - Randomized Search</th>\n",
       "      <td>0.622951</td>\n",
       "      <td>0.852895</td>\n",
       "      <td>{'0.0': {'precision': 0.9459459459459459, 'rec...</td>\n",
       "    </tr>\n",
       "    <tr>\n",
       "      <th>Decision Tree - Baseline</th>\n",
       "      <td>0.655738</td>\n",
       "      <td>0.805948</td>\n",
       "      <td>{'0.0': {'precision': 0.9444444444444444, 'rec...</td>\n",
       "    </tr>\n",
       "    <tr>\n",
       "      <th>Decision Tree - Grid Search</th>\n",
       "      <td>0.639344</td>\n",
       "      <td>0.790968</td>\n",
       "      <td>{'0.0': {'precision': 0.875, 'recall': 0.89743...</td>\n",
       "    </tr>\n",
       "    <tr>\n",
       "      <th>Decision Tree - Randomized Search</th>\n",
       "      <td>0.639344</td>\n",
       "      <td>0.781029</td>\n",
       "      <td>{'0.0': {'precision': 0.9142857142857143, 'rec...</td>\n",
       "    </tr>\n",
       "    <tr>\n",
       "      <th>Random Forest - Baseline</th>\n",
       "      <td>0.344262</td>\n",
       "      <td>0.399886</td>\n",
       "      <td>{'0.0': {'precision': 0.5, 'recall': 0.4871794...</td>\n",
       "    </tr>\n",
       "    <tr>\n",
       "      <th>Random Forest - Grid Search</th>\n",
       "      <td>0.672131</td>\n",
       "      <td>0.825316</td>\n",
       "      <td>{'0.0': {'precision': 0.9230769230769231, 'rec...</td>\n",
       "    </tr>\n",
       "    <tr>\n",
       "      <th>Random Forest - Randomized Search</th>\n",
       "      <td>0.655738</td>\n",
       "      <td>0.825532</td>\n",
       "      <td>{'0.0': {'precision': 0.9459459459459459, 'rec...</td>\n",
       "    </tr>\n",
       "    <tr>\n",
       "      <th>SVM - Baseline</th>\n",
       "      <td>0.655738</td>\n",
       "      <td>0.834612</td>\n",
       "      <td>{'0.0': {'precision': 0.9024390243902439, 'rec...</td>\n",
       "    </tr>\n",
       "    <tr>\n",
       "      <th>SVM - Grid Search</th>\n",
       "      <td>0.655738</td>\n",
       "      <td>0.834612</td>\n",
       "      <td>{'0.0': {'precision': 0.9024390243902439, 'rec...</td>\n",
       "    </tr>\n",
       "    <tr>\n",
       "      <th>SVM - Randomized Search</th>\n",
       "      <td>0.655738</td>\n",
       "      <td>0.830066</td>\n",
       "      <td>{'0.0': {'precision': 0.925, 'recall': 0.94871...</td>\n",
       "    </tr>\n",
       "  </tbody>\n",
       "</table>\n",
       "</div>"
      ],
      "text/plain": [
       "                                         accuracy   roc_auc  \\\n",
       "Logistic Regression - Baseline           0.622951  0.853772   \n",
       "Logistic Regression - Grid Search        0.639344  0.851683   \n",
       "Logistic Regression - Randomized Search  0.622951  0.852895   \n",
       "Decision Tree - Baseline                 0.655738  0.805948   \n",
       "Decision Tree - Grid Search              0.639344  0.790968   \n",
       "Decision Tree - Randomized Search        0.639344  0.781029   \n",
       "Random Forest - Baseline                 0.344262  0.399886   \n",
       "Random Forest - Grid Search              0.672131  0.825316   \n",
       "Random Forest - Randomized Search        0.655738  0.825532   \n",
       "SVM - Baseline                           0.655738  0.834612   \n",
       "SVM - Grid Search                        0.655738  0.834612   \n",
       "SVM - Randomized Search                  0.655738  0.830066   \n",
       "\n",
       "                                                                     classification_report  \n",
       "Logistic Regression - Baseline           {'0.0': {'precision': 0.9459459459459459, 'rec...  \n",
       "Logistic Regression - Grid Search        {'0.0': {'precision': 0.9722222222222222, 'rec...  \n",
       "Logistic Regression - Randomized Search  {'0.0': {'precision': 0.9459459459459459, 'rec...  \n",
       "Decision Tree - Baseline                 {'0.0': {'precision': 0.9444444444444444, 'rec...  \n",
       "Decision Tree - Grid Search              {'0.0': {'precision': 0.875, 'recall': 0.89743...  \n",
       "Decision Tree - Randomized Search        {'0.0': {'precision': 0.9142857142857143, 'rec...  \n",
       "Random Forest - Baseline                 {'0.0': {'precision': 0.5, 'recall': 0.4871794...  \n",
       "Random Forest - Grid Search              {'0.0': {'precision': 0.9230769230769231, 'rec...  \n",
       "Random Forest - Randomized Search        {'0.0': {'precision': 0.9459459459459459, 'rec...  \n",
       "SVM - Baseline                           {'0.0': {'precision': 0.9024390243902439, 'rec...  \n",
       "SVM - Grid Search                        {'0.0': {'precision': 0.9024390243902439, 'rec...  \n",
       "SVM - Randomized Search                  {'0.0': {'precision': 0.925, 'recall': 0.94871...  "
      ]
     },
     "execution_count": 43,
     "metadata": {},
     "output_type": "execute_result"
    }
   ],
   "source": [
    "metrics = pd.DataFrame(columns = [\"accuracy\", \"roc_auc\", \"classification_report\"])\n",
    "index_to_variation = {0: \"Baseline\", 1: \"Grid Search\", 2: \"Randomized Search\"}\n",
    "\n",
    "for model_name, model_variations in models.items():\n",
    "    for i, model in enumerate(model_variations):\n",
    "        y_pred = model.predict(X_test)\n",
    "        y_proba = model.predict_proba(X_test)\n",
    "        accuracy = accuracy_score(y_test, y_pred)\n",
    "        roc_auc = roc_auc_score(y_test, y_proba, multi_class='ovr') \n",
    "        class_report = classification_report(y_test, y_pred, output_dict=True, zero_division=0)\n",
    "        \n",
    "        metrics.loc[f\"{model_name} - {index_to_variation[i]}\"] = {\n",
    "            \"accuracy\": accuracy,\n",
    "            \"roc_auc\": roc_auc,\n",
    "            \"classification_report\": class_report\n",
    "        }\n",
    "\n",
    "\n",
    "with open(\"../results/hyperparameter_tuning_metrics.pkl\", \"wb\") as f:\n",
    "    pkl.dump(metrics, f)\n",
    "    \n",
    "metrics"
   ]
  },
  {
   "cell_type": "markdown",
   "id": "f69b3f8f",
   "metadata": {},
   "source": [
    "## Plot results"
   ]
  },
  {
   "cell_type": "code",
   "execution_count": 36,
   "id": "a907d602",
   "metadata": {},
   "outputs": [
    {
     "data": {
      "image/png": "[encoded data removed]",
      "text/plain": [
       "<Figure size 800x1000 with 2 Axes>"
      ]
     },
     "metadata": {},
     "output_type": "display_data"
    }
   ],
   "source": [
    "fig , (ax1, ax2) = plt.subplots(2, 1, figsize=(8, 10))\n",
    "\n",
    "acc_sorted_metrics= metrics.sort_values(by='accuracy', ascending=False)\n",
    "ax1.bar(acc_sorted_metrics.index, acc_sorted_metrics['accuracy'], color='skyblue')\n",
    "ax1.set_ylabel('Accuracy')\n",
    "ax1.set_title('Model Accuracy Comparison')\n",
    "ax1.tick_params(axis='x', labelsize=8, labelrotation=90)\n",
    "ax1.set_ylim(0, 1)\n",
    "\n",
    "auc_sorted_metrics= metrics.sort_values(by='roc_auc', ascending=False)\n",
    "ax2.bar(auc_sorted_metrics.index, auc_sorted_metrics['roc_auc'], color='lightgreen')\n",
    "ax2.set_ylabel('ROC AUC')\n",
    "ax2.set_title('Model ROC AUC Comparison')\n",
    "ax2.tick_params(axis='x', labelsize=8, labelrotation=90)\n",
    "ax2.set_ylim(0, 1)\n",
    "\n",
    "\n",
    "plt.tight_layout()\n",
    "plt.show()"
   ]
  },
  {
   "cell_type": "markdown",
   "id": "12a99b60",
   "metadata": {},
   "source": [
    "## Save best model"
   ]
  },
  {
   "cell_type": "code",
   "execution_count": 42,
   "id": "8d7c5592",
   "metadata": {},
   "outputs": [],
   "source": [
    "# Use RandomForestClassifier for RFE estimator\n",
    "rfe = RFE(estimator=RandomForestClassifier(random_state=30), n_features_to_select=6)\n",
    "\n",
    "pipeline = Pipeline([\n",
    "    ('scaler', StandardScaler()),           # Scaling\n",
    "    ('pca', PCA(n_components=6)),           # PCA (adjust n_components as needed)\n",
    "    ('feature_selection', rfe),  # Feature selection\n",
    "    ('classifier', rf_model) \n",
    "])\n",
    "\n",
    "pipeline.fit(X_train, y_train)\n",
    "\n",
    "# Save pipeline\n",
    "with open(\"../models/final_model.pkl\", \"wb\") as f:\n",
    "    pkl.dump(pipeline, f)"
   ]
  }
 ],
 "metadata": {
  "kernelspec": {
   "display_name": "Python 3",
   "language": "python",
   "name": "python3"
  },
  "language_info": {
   "codemirror_mode": {
    "name": "ipython",
    "version": 3
   },
   "file_extension": ".py",
   "mimetype": "text/x-python",
   "name": "python",
   "nbconvert_exporter": "python",
   "pygments_lexer": "ipython3",
   "version": "3.12.4"
  }
 },
 "nbformat": 4,
 "nbformat_minor": 5
}
