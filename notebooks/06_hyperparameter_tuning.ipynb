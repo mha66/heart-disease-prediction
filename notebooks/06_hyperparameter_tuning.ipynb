{
 "cells": [
  {
   "cell_type": "code",
   "execution_count": null,
   "id": "91127fed",
   "metadata": {},
   "outputs": [],
   "source": [
    "import numpy as np\n",
    "import matplotlib.pyplot as plt\n",
    "import seaborn as sns\n",
    "import pandas as pd\n",
    "import pickle as pkl\n",
    "\n",
    "from sklearn.pipeline import Pipeline\n",
    "from sklearn.model_selection import train_test_split, GridSearchCV, RandomizedSearchCV\n",
    "from sklearn.linear_model import LogisticRegression\n",
    "from sklearn.tree import DecisionTreeClassifier\n",
    "from sklearn.ensemble import RandomForestClassifier\n",
    "from sklearn.svm import SVC\n",
    "from scipy.stats import uniform"
   ]
  },
  {
   "cell_type": "markdown",
   "id": "fd29a142",
   "metadata": {},
   "source": [
    "# Load data"
   ]
  },
  {
   "cell_type": "code",
   "execution_count": 5,
   "id": "46ef1f33",
   "metadata": {},
   "outputs": [],
   "source": [
    "df = pd.read_csv(\"../data/heart_disease.csv\")\n",
    "X = df.drop(\"num\", axis=1)\n",
    "y = df[\"num\"]\n",
    "X_train, X_test, y_train, y_test = train_test_split(X, y, test_size=0.2, random_state=30)"
   ]
  },
  {
   "cell_type": "markdown",
   "id": "9f3e73a0",
   "metadata": {},
   "source": [
    "# GridSearchCV"
   ]
  },
  {
   "cell_type": "code",
   "execution_count": 20,
   "id": "363b7148",
   "metadata": {},
   "outputs": [
    {
     "name": "stdout",
     "output_type": "stream",
     "text": [
      "Best Logistic Regression: {'C': 10, 'solver': 'lbfgs'}\n",
      "Cross-Validated Best Score (Logistic Regression): 0.59515306122449\n"
     ]
    }
   ],
   "source": [
    "# Logistic Regression\n",
    "param_grid_lr = {\n",
    "    'C': [0.01, 0.1, 1, 10],\n",
    "    'solver': ['lbfgs', 'newton-cg', 'sag', 'saga']\n",
    "}\n",
    "grid_lr = GridSearchCV(LogisticRegression(random_state=30), param_grid_lr, scoring='accuracy')\n",
    "grid_lr.fit(X_train, y_train)\n",
    "print(\"Best Logistic Regression:\", grid_lr.best_params_)\n",
    "print(\"Cross-Validated Best Score (Logistic Regression):\", grid_lr.best_score_)\n"
   ]
  },
  {
   "cell_type": "code",
   "execution_count": null,
   "id": "ff952d12",
   "metadata": {},
   "outputs": [
    {
     "name": "stdout",
     "output_type": "stream",
     "text": [
      "Cross-Validated Best Score (Logistic Regression): 0.533078231292517\n",
      "Best Decision Tree: {'max_depth': 2, 'min_samples_split': 2}\n"
     ]
    }
   ],
   "source": [
    "# Decision Tree\n",
    "param_grid_dt = {\n",
    "    'max_depth': [2, 3, 5, 7, 10],\n",
    "    'min_samples_split': [2, 5, 10]\n",
    "}\n",
    "grid_dt = GridSearchCV(DecisionTreeClassifier(random_state=30), param_grid_dt, scoring='accuracy')\n",
    "grid_dt.fit(X_train, y_train)\n",
    "print(\"Best Decision Tree:\", grid_dt.best_params_)\n",
    "print(\"Cross-Validated Best Score (Logistic Regression):\", grid_dt.best_score_)\n"
   ]
  },
  {
   "cell_type": "code",
   "execution_count": null,
   "id": "863b3f12",
   "metadata": {},
   "outputs": [
    {
     "name": "stdout",
     "output_type": "stream",
     "text": [
      "Cross-Validated Best Score (Random Forest): 0.6075680272108843\n",
      "Best Random Forest: {'max_depth': None, 'min_samples_split': 2, 'n_estimators': 100}\n"
     ]
    }
   ],
   "source": [
    "# Random Forest\n",
    "param_grid_rf = {\n",
    "    'n_estimators': [50, 100, 200],\n",
    "    'max_depth': [3, 5, 7, None],\n",
    "    'min_samples_split': [2, 5, 10]\n",
    "}\n",
    "grid_rf = GridSearchCV(RandomForestClassifier(random_state=30), param_grid_rf, scoring='accuracy')\n",
    "grid_rf.fit(X_train, y_train)\n",
    "print(\"Best Random Forest:\", grid_rf.best_params_)\n",
    "print(\"Cross-Validated Best Score (Random Forest):\", grid_rf.best_score_)"
   ]
  },
  {
   "cell_type": "code",
   "execution_count": null,
   "id": "8906246d",
   "metadata": {},
   "outputs": [
    {
     "name": "stdout",
     "output_type": "stream",
     "text": [
      "Cross-Validated Best Score (SVM): 0.599234693877551\n",
      "Best SVM: {'C': 1, 'gamma': 'scale', 'kernel': 'rbf'}\n"
     ]
    }
   ],
   "source": [
    "# SVM\n",
    "param_grid_svm = {\n",
    "    'C': [0.1, 1, 10],\n",
    "    'kernel': ['linear', 'rbf'],\n",
    "    'gamma': ['scale', 'auto']\n",
    "}\n",
    "grid_svm = GridSearchCV(SVC(probability=True, random_state=30), param_grid_svm, scoring='accuracy')\n",
    "grid_svm.fit(X_train, y_train)\n",
    "print(\"Best SVM:\", grid_svm.best_params_)\n",
    "print(\"Cross-Validated Best Score (SVM):\", grid_svm.best_score_)"
   ]
  },
  {
   "cell_type": "markdown",
   "id": "14fd9506",
   "metadata": {},
   "source": [
    "# RandomizedSearchCV"
   ]
  },
  {
   "cell_type": "code",
   "execution_count": 27,
   "id": "5e30e89e",
   "metadata": {},
   "outputs": [
    {
     "name": "stdout",
     "output_type": "stream",
     "text": [
      "Best Logistic Regression (Randomized): {'C': np.float64(1.6375072610275332), 'solver': 'newton-cg'}\n",
      "Best Score (Logistic Regression): 0.5952380952380952\n"
     ]
    }
   ],
   "source": [
    "# Logistic Regression\n",
    "param_dist_lr = {\n",
    "    'C': uniform(0.001, 10),\n",
    "    'solver': ['lbfgs', 'newton-cg', 'sag', 'saga']\n",
    "}\n",
    "rand_lr = RandomizedSearchCV(LogisticRegression(random_state=30), param_dist_lr, n_iter=10, scoring='accuracy', random_state=30)\n",
    "rand_lr.fit(X_train, y_train)\n",
    "print(\"Best Logistic Regression (Randomized):\", rand_lr.best_params_)\n",
    "print(\"Best Score (Logistic Regression):\", rand_lr.best_score_)"
   ]
  },
  {
   "cell_type": "code",
   "execution_count": 28,
   "id": "4ce1b8b1",
   "metadata": {},
   "outputs": [
    {
     "name": "stdout",
     "output_type": "stream",
     "text": [
      "Best Decision Tree (Randomized): {'min_samples_split': 20, 'max_depth': 10}\n",
      "Best Score (Decision Tree): 0.5333333333333333\n"
     ]
    }
   ],
   "source": [
    "# Decision Tree\n",
    "param_dist_dt = {\n",
    "    'max_depth': [2, 3, 5, 7, 10, None],\n",
    "    'min_samples_split': [2, 5, 10, 15, 20]\n",
    "}\n",
    "rand_dt = RandomizedSearchCV(DecisionTreeClassifier(random_state=30), param_dist_dt, n_iter=10, scoring='accuracy', random_state=30)\n",
    "rand_dt.fit(X_train, y_train)\n",
    "print(\"Best Decision Tree (Randomized):\", rand_dt.best_params_)\n",
    "print(\"Best Score (Decision Tree):\", rand_dt.best_score_)"
   ]
  },
  {
   "cell_type": "code",
   "execution_count": 39,
   "id": "cc2a6fb4",
   "metadata": {},
   "outputs": [
    {
     "name": "stdout",
     "output_type": "stream",
     "text": [
      "Best Random Forest (Randomized): {'n_estimators': 200, 'min_samples_split': 5, 'max_depth': None}\n",
      "Best Score (Random Forest): 0.5995748299319728\n"
     ]
    }
   ],
   "source": [
    "# Random Forest\n",
    "param_dist_rf = {\n",
    "    'n_estimators': [50, 100, 200, 300],\n",
    "    'max_depth': [3, 5, 7, None],\n",
    "    'min_samples_split': [2, 5, 10, 15]\n",
    "}\n",
    "rand_rf = RandomizedSearchCV(RandomForestClassifier(random_state=30), param_dist_rf, n_iter=20, scoring='accuracy', random_state=30)\n",
    "rand_rf.fit(X_train, y_train)\n",
    "print(\"Best Random Forest (Randomized):\", rand_rf.best_params_)\n",
    "print(\"Best Score (Random Forest):\", rand_rf.best_score_)"
   ]
  },
  {
   "cell_type": "code",
   "execution_count": 38,
   "id": "ee7eba5f",
   "metadata": {},
   "outputs": [
    {
     "name": "stdout",
     "output_type": "stream",
     "text": [
      "Best SVM (Randomized): {'C': np.float64(1.341218238655718), 'gamma': 'auto', 'kernel': 'rbf'}\n",
      "Best Score (SVM): 0.599234693877551\n"
     ]
    }
   ],
   "source": [
    "# SVM\n",
    "param_dist_svm = {\n",
    "    'C': uniform(0.01, 50),\n",
    "    'kernel': ['linear', 'rbf'],\n",
    "    'gamma': ['scale', 'auto']\n",
    "}\n",
    "rand_svm = RandomizedSearchCV(SVC(probability=True, random_state=30), param_dist_svm, n_iter=20, scoring='accuracy', random_state=30)\n",
    "rand_svm.fit(X_train, y_train)\n",
    "print(\"Best SVM (Randomized):\", rand_svm.best_params_)\n",
    "print(\"Best Score (SVM):\", rand_svm.best_score_)"
   ]
  },
  {
   "cell_type": "markdown",
   "id": "f68d0212",
   "metadata": {},
   "source": [
    "# Load baseline models"
   ]
  },
  {
   "cell_type": "code",
   "execution_count": 4,
   "id": "ecb2bdc0",
   "metadata": {},
   "outputs": [],
   "source": [
    "with open(\"../models/logistic_regression_model.pkl\", \"rb\") as file:\n",
    "    log_reg_model = pkl.load(file)\n",
    "\n",
    "with open(\"../models/decision_tree_model.pkl\", \"rb\") as file:\n",
    "    dt_model = pkl.load(file)\n",
    "\n",
    "with open(\"../models/random_forest_model.pkl\", \"rb\") as file:\n",
    "    rf_model = pkl.load(file)\n",
    "\n",
    "with open(\"../models/svm_model.pkl\", \"rb\") as file:\n",
    "    svm_model = pkl.load(file)"
   ]
  },
  {
   "cell_type": "markdown",
   "id": "a9791b8a",
   "metadata": {},
   "source": [
    "# Compare models"
   ]
  },
  {
   "cell_type": "code",
   "execution_count": null,
   "id": "71b1b0e1",
   "metadata": {},
   "outputs": [],
   "source": [
    "# models[model_name][i]\n",
    "# i = 0: baseline, 1: grid search, 2: randomized search\n",
    "\n",
    "models = {\n",
    "    \"Logistic Regression\": [log_reg_model, grid_lr.best_estimator_, rand_lr.best_estimator_],\n",
    "    \"Decision Tree\": [dt_model, grid_dt.best_estimator_, rand_dt.best_estimator_],\n",
    "    \"Random Forest\": [rf_model, grid_rf.best_estimator_, rand_rf.best_estimator_],\n",
    "    \"SVM\": [svm_model, grid_svm.best_estimator_, rand_svm.best_estimator_]\n",
    "}\n"
   ]
  }
 ],
 "metadata": {
  "kernelspec": {
   "display_name": "Python 3",
   "language": "python",
   "name": "python3"
  },
  "language_info": {
   "codemirror_mode": {
    "name": "ipython",
    "version": 3
   },
   "file_extension": ".py",
   "mimetype": "text/x-python",
   "name": "python",
   "nbconvert_exporter": "python",
   "pygments_lexer": "ipython3",
   "version": "3.12.4"
  }
 },
 "nbformat": 4,
 "nbformat_minor": 5
}
